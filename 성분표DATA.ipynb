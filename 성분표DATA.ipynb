{
 "cells": [
  {
   "cell_type": "code",
   "execution_count": 1,
   "id": "c8feecc9",
   "metadata": {},
   "outputs": [],
   "source": [
    "from selenium import webdriver\n",
    "from selenium.webdriver.support.ui import WebDriverWait\n",
    "from selenium.webdriver.support import expected_conditions as EC\n",
    "from selenium.webdriver.common.by import By\n",
    "from bs4 import BeautifulSoup\n",
    "from urllib.request import urlopen\n",
    "from selenium.webdriver.common.keys import Keys\n",
    "from xml.etree import ElementTree\n",
    "import requests\n",
    "import time\n",
    "import pandas as pd\n",
    "import numpy as np"
   ]
  },
  {
   "cell_type": "code",
   "execution_count": 2,
   "id": "5b5d6973",
   "metadata": {},
   "outputs": [],
   "source": [
    "import matplotlib.image as img \n",
    "import matplotlib.pyplot as plt\n",
    "import pytesseract\n",
    "import cv2\n",
    "import os\n",
    "from skimage import io\n",
    "from PIL import Image  \n",
    "import numpy as np\n",
    "import re\n",
    "import pandas as pd"
   ]
  },
  {
   "cell_type": "code",
   "execution_count": 6,
   "id": "321c2691",
   "metadata": {},
   "outputs": [],
   "source": [
    "path=\"C:/Users/qjawl/Desktop/대외활동/창의융합캡스톤/cosmetics/cosmetics/images/ocr/ocr_1.jpg\"\n",
    "\n",
    "###################전처리#####################\n",
    "img = io.imread(path)\n",
    "#print('원본 이미지 shape :',img.shape)\n",
    "#plt.imshow(img)\n",
    "img=cv2.resize(img,None,fx=1.5,fy=1.5) ## 가세연 1.3배\n",
    "###############################################\n",
    "\n",
    "gray = cv2.cvtColor(img, cv2.COLOR_BGR2GRAY)\n",
    "#print('gray 이미지 shape :',gray.shape)\n",
    "filename = \"{}.png\".format(os.getpid())\n",
    "cv2.imwrite(filename, gray)\n",
    "gray_scale_img=io.imread(filename)\n",
    "pil_image=Image.fromarray(gray_scale_img)\n",
    "#pil_image.show()\n",
    "\n",
    "\n",
    "gray=cv2.threshold(gray,127,255,cv2.THRESH_TRUNC)[1]\n",
    "filename = \"{}.png\".format(os.getpid())\n",
    "cv2.imwrite(filename, gray)\n",
    "gray_scale_img=io.imread(filename)\n",
    "pil_image=Image.fromarray(gray_scale_img)\n",
    "#pil_image.show()\n",
    "\n",
    "\n",
    "#################################################################333\n",
    "\n",
    "pytesseract.pytesseract.tesseract_cmd = r'C:/Program Files/Tesseract-OCR/tesseract.exe' \n",
    "text = pytesseract.image_to_string(Image.open(filename), lang = 'kor')\n",
    "#print(text)\n",
    "os.remove(filename)\n"
   ]
  },
  {
   "cell_type": "code",
   "execution_count": 7,
   "id": "f5844845",
   "metadata": {},
   "outputs": [
    {
     "name": "stdout",
     "output_type": "stream",
     "text": [
      "\"정제수\"\n"
     ]
    }
   ],
   "source": [
    "text_r=text_parse(text)\n",
    "text_data=cra_preprocessing(text_r)\n",
    "print(text_data[0])"
   ]
  },
  {
   "cell_type": "code",
   "execution_count": 11,
   "id": "4a61e35e",
   "metadata": {},
   "outputs": [
    {
     "name": "stdout",
     "output_type": "stream",
     "text": [
      "피부컨디셔닝제, 용제\n",
      "변성제, 착향제, 헤어컨디셔닝제, 보습제, 피부보호제, 피부컨디셔닝제(보습제), 점도감소제\n",
      "계면활성제(유화제)\n",
      "유화안정제, 불투명화제, 계면활성제-거품형성제, 점증제-수용성, 점증제-비수용성\n",
      "착향제, 보존제\n",
      "착향제, 계면활성제(세정제), 계면활성제(유화제)\n",
      "착향제, 불투명화제, 계면활성제(세정제), 계면활성제(유화제)\n",
      "착향제, 보존제, 용제, 점도감소제\n",
      "기포방지제, 피부보호제, 피부컨디셔닝제(수분차단제), 용제\n",
      "착향제, 보습제, 피부보습제, 피부컨디셔닝제, 용제, 점도감소제\n",
      "유화안정제, 점증제-수용성\n",
      "착향제\n",
      "모발컨디셔닝제, 피부유연화제\n",
      "체취방지제, 피부컨디셔닝제(기타)\n",
      "착향제, 피부컨디셔닝제\n",
      "착향제\n",
      "착향제, 피부컨디셔닝제, 용제, 점도감소제\n",
      "착향제, 피부컨디셔닝제(기타), 피부컨디셔닝제(수분차단제)\n",
      "착향제, 변색방지제\n",
      "착향제\n",
      "감미제, 보습제, 피부컨디셔닝제(보습제), 피부컨디셔닝제(기타)\n",
      "착향제, 보습제, 피부컨디셔닝제(보습제), 피부컨디셔닝제(기타), pH 조정제\n",
      "감미제, 착향제\n",
      "피부컨디셔닝제(기타)\n",
      "착향제, 피부컨디셔닝제(기타), 피부컨디셔닝제(수분차단제)\n",
      "착향제, 피부컨디셔닝제(기타)\n",
      "피부컨디셔닝제(기타)\n",
      "착향제\n",
      "착향제\n",
      "감미제, 착향제, 보습제, 피부컨디셔닝제(보습제)\n"
     ]
    }
   ],
   "source": [
    "result=[]\n",
    "for j in range(len(text_data)):\n",
    "    p=0\n",
    "    url=\"https://kcia.or.kr/cid/search/ingd_list.php?skind=ALL&sword=\"\n",
    "    url=url+text_data[j]\n",
    "    driver = webdriver.Chrome('C:/Users/qjawl/Desktop/chromedriver_win32/chromedriver.exe')\n",
    "    driver.get(url)\n",
    "\n",
    "    try:\n",
    "        driver.find_element_by_xpath('//*[@id=\"content\"]/div/div[3]/div/div/table/tbody/tr/td[2]/a').send_keys(Keys.ENTER)\n",
    "    except:\n",
    "        result.append('검색결과없음')\n",
    "        p+=1\n",
    "    try:\n",
    "        table=driver.find_element_by_xpath('//*[@id=\"content\"]/div/div[3]/div/div/table[1]/tbody')\n",
    "        trs=table.find_elements_by_tag_name('tr')\n",
    "        i=0\n",
    "        for trs_name in trs:\n",
    "            th=trs_name.find_element_by_tag_name('th')\n",
    "            if(th.text==\"배합목적\"):\n",
    "                i+=1\n",
    "                break;\n",
    "            i+=1\n",
    "        xpath='//*[@id=\"content\"]/div/div[3]/div/div/table/tbody/tr['+str(i)+']/td/p'\n",
    "        result_text=driver.find_element_by_xpath(xpath)\n",
    "        print(result_text.text)\n",
    "        result.append(result_text.text)\n",
    "    except:\n",
    "        if(p!=1):\n",
    "            result.append('검색결과없음')\n",
    "    driver.quit()"
   ]
  },
  {
   "cell_type": "code",
   "execution_count": 21,
   "id": "6ef3409c",
   "metadata": {},
   "outputs": [],
   "source": [
    "text_r=pd.Series(text_r)\n",
    "result=pd.Series(result)\n",
    "data_result=pd.concat([text_r,result],axis=1)"
   ]
  },
  {
   "cell_type": "code",
   "execution_count": 23,
   "id": "fa6a57a5",
   "metadata": {},
   "outputs": [],
   "source": [
    "data_result.to_excel('C:/Users/qjawl/Desktop/창융/화장품데이터/상세데이터.xlsx')"
   ]
  },
  {
   "cell_type": "code",
   "execution_count": 5,
   "id": "4f5ae404",
   "metadata": {},
   "outputs": [],
   "source": [
    "def cra_preprocessing(text_r):\n",
    "    text_for_cra=[]\n",
    "    for x in text_r:\n",
    "        temp=[]\n",
    "        temp.append(\"\\\"\")\n",
    "        for i in x:\n",
    "            temp.append(i)\n",
    "        temp.append(\"\\\"\")\n",
    "        temp=\"\".join(temp)\n",
    "        temp=temp.replace(\" \",\"\")\n",
    "        text_for_cra.append(temp)\n",
    "    return text_for_cra"
   ]
  },
  {
   "cell_type": "code",
   "execution_count": 4,
   "id": "b7d85ee6",
   "metadata": {},
   "outputs": [],
   "source": [
    "def filter_data(text_r):\n",
    "    data_filter_result=[]\n",
    "    data_filter_label=[]\n",
    "\n",
    "    for text in text_r:\n",
    "        sig=0\n",
    "        label_index=0\n",
    "        a=0\n",
    "\n",
    "        for i in range(len(data_base.index)):\n",
    "            for data in data_base.iloc[i]:\n",
    "                if data==text:\n",
    "                    sig=1\n",
    "                    label_index=i\n",
    "\n",
    "        if sig ==1:\n",
    "            data_filter_label.append(data_base.index[label_index])\n",
    "        else:\n",
    "            data_filter_label.append('영향없음')\n",
    "        data_filter_result.append(text)\n",
    "    data_filter_result=pd.Series(data_filter_result)\n",
    "    data_filter_label=pd.Series(data_filter_label)\n",
    "    df_result=pd.concat([data_filter_result,data_filter_label],axis=1)\n",
    "    return(df_result)"
   ]
  },
  {
   "cell_type": "code",
   "execution_count": 3,
   "id": "5a198752",
   "metadata": {},
   "outputs": [],
   "source": [
    "def text_parse(text):\n",
    "    text_result=[]\n",
    "    try:\n",
    "        text=text.replace(\" \",\"\")\n",
    "    except:\n",
    "        text=\"\".join(text)\n",
    "        text=text.replace(\" \",\"\")\n",
    "    text=text.replace('\\n',\"\")\n",
    "    text=text.strip()\n",
    "    text=list(text)\n",
    "    text_pre_1=[]\n",
    "    sig=0\n",
    "    text_sig=0\n",
    "\n",
    "    for i in range(len(text)):\n",
    "        if ((text[i-1]=='성')&(text[i]=='분')):\n",
    "            sig=1\n",
    "        if sig==1:\n",
    "            text_pre_1.append(text[i])\n",
    "    text_pre_1=\"\".join(text_pre_1)\n",
    "    #print('성분 Parsing :\\n',text_pre_1)\n",
    "    \n",
    "    \n",
    "    p=re.compile('\\w+,') #정규식 \n",
    "    text_pre_2=p.findall(text_pre_1)\n",
    "    text_pre_2=list(text_pre_2)\n",
    "\n",
    "    \n",
    "    for i in range(len(text_pre_2)):\n",
    "        text_pre_2[i]=text_pre_2[i].replace(',',\"\") #쉼표 지우기 \n",
    "        #print(text_pre_2[i])\n",
    "        text_result.append(text_pre_2[i])\n",
    "    #print(text_pre_2)\n",
    "    return(text_result)"
   ]
  }
 ],
 "metadata": {
  "kernelspec": {
   "display_name": "Python 3",
   "language": "python",
   "name": "python3"
  },
  "language_info": {
   "codemirror_mode": {
    "name": "ipython",
    "version": 3
   },
   "file_extension": ".py",
   "mimetype": "text/x-python",
   "name": "python",
   "nbconvert_exporter": "python",
   "pygments_lexer": "ipython3",
   "version": "3.8.8"
  }
 },
 "nbformat": 4,
 "nbformat_minor": 5
}
